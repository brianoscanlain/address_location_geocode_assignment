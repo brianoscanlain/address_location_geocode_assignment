{
 "cells": [
  {
   "cell_type": "markdown",
   "metadata": {
    "colab_type": "text",
    "id": "oWcoNB0cDG7B"
   },
   "source": [
    "Prior to definining our python3 environment, I will call pip manager to install 3rd-party modules:"
   ]
  },
  {
   "cell_type": "code",
   "execution_count": 0,
   "metadata": {
    "colab": {},
    "colab_type": "code",
    "id": "nlf8uDiMC_Bf"
   },
   "outputs": [],
   "source": [
    "#install any missing packages:\n",
    "!pip install fuzzywuzzy\n",
    "!pip install pydrive\n",
    "!pip install python-Levenshtein"
   ]
  },
  {
   "cell_type": "markdown",
   "metadata": {
    "colab_type": "text",
    "id": "ioFlB7vBFlbN"
   },
   "source": [
    "Import known modules and authenticate google credentials:"
   ]
  },
  {
   "cell_type": "code",
   "execution_count": 0,
   "metadata": {
    "colab": {},
    "colab_type": "code",
    "id": "_2tAScUABL__"
   },
   "outputs": [],
   "source": [
    "from pydrive.auth import GoogleAuth\n",
    "from pydrive.drive import GoogleDrive\n",
    "from google.colab import auth\n",
    "from oauth2client.client import GoogleCredentials\n",
    "#Load modules for our own analysis:\n",
    "import pandas as pd\n",
    "import numpy as np\n",
    "\n",
    "#Initialise the google authentication:\n",
    "auth.authenticate_user()\n",
    "gauth = GoogleAuth()\n",
    "gauth.credentials = GoogleCredentials.get_application_default()\n",
    "drive = GoogleDrive(gauth)\n"
   ]
  },
  {
   "cell_type": "markdown",
   "metadata": {
    "colab_type": "text",
    "id": "kyjaAeX7BMSr"
   },
   "source": [
    "The following is a link to the Abodoo database (NOTE: this is a copy of the main file, and I have it converted to xlsx to minimise chances of incompatibility ocurring):\n",
    "\n",
    "https://drive.google.comhttps://drive.google.com/open?id=1SRatK8tSCQKrb3x6G8iugPn7ZUxzb7H1\n",
    "\n",
    "The following is a link to the TownsDataBase module which provides functionality for matching city/country placenames and assigning additional complementary datafields (population, location, class of city, and more.)\n",
    "\n",
    "https://drive.google.com/open?id=15HXkcWFmCqOT3sfJCH41vckeiMBo9Dv3\n",
    "\n",
    "Tow load these files, we use pyDrive, and the pass the ID's contained in eacho of the above links.\n",
    "\n"
   ]
  },
  {
   "cell_type": "code",
   "execution_count": 0,
   "metadata": {
    "colab": {},
    "colab_type": "code",
    "id": "xQi4xHAABDNv"
   },
   "outputs": [],
   "source": [
    "\n",
    "\n",
    "AbodooDB_file = drive.CreateFile({'id':'1SRatK8tSCQKrb3x6G8iugPn7ZUxzb7H1'})\n",
    "AbodooDB_file.GetContentFile('AbodooDB.xlsx')\n",
    "TownsDataBase_file = drive.CreateFile({'id':'15HXkcWFmCqOT3sfJCH41vckeiMBo9Dv3'})\n",
    "TownsDataBase_file.GetContentFile('TownsDataBase.py')"
   ]
  },
  {
   "cell_type": "markdown",
   "metadata": {
    "colab_type": "text",
    "id": "HQkpWknvOYCX"
   },
   "source": [
    "Now we have loaded two files from google drive, let's get to work!"
   ]
  },
  {
   "cell_type": "code",
   "execution_count": 0,
   "metadata": {
    "colab": {
     "base_uri": "https://localhost:8080/",
     "height": 69
    },
    "colab_type": "code",
    "executionInfo": {
     "elapsed": 12071,
     "status": "ok",
     "timestamp": 1555075175601,
     "user": {
      "displayName": "Brian Scanlon",
      "photoUrl": "https://lh4.googleusercontent.com/-4tuzWm5gv40/AAAAAAAAAAI/AAAAAAAAJVY/NlQsa_4osO8/s64/photo.jpg",
      "userId": "01070102596457965566"
     },
     "user_tz": -60
    },
    "id": "91Fnb-rbBK-b",
    "outputId": "75edbadb-bdc2-4b0f-f4a6-d9367fdc7c16",
    "scrolled": true
   },
   "outputs": [
    {
     "name": "stdout",
     "output_type": "stream",
     "text": [
      "Downloading Archive dataset from google Drive...\n",
      "Unpacking Archive...\n",
      "Unpacking Complete\n"
     ]
    }
   ],
   "source": [
    "import TownsDataBase      #import our module\n",
    "\n",
    "TownsDataBase.recompileDB() #recompile the TownsDB\n",
    "townsDB = TownsDataBase.loadDB() #load the TownsDB into memory\n",
    "\n",
    "\n",
    "Frm=pd.read_excel('AbodooDB.xlsx')   #open up the xlsx DB and load it as a pandas Frame\n"
   ]
  },
  {
   "cell_type": "markdown",
   "metadata": {
    "colab_type": "text",
    "id": "DLWSST9WPyGR"
   },
   "source": []
  },
  {
   "cell_type": "code",
   "execution_count": 0,
   "metadata": {
    "colab": {
     "base_uri": "https://localhost:8080/",
     "height": 764
    },
    "colab_type": "code",
    "executionInfo": {
     "elapsed": 4290,
     "status": "ok",
     "timestamp": 1555076621608,
     "user": {
      "displayName": "Brian Scanlon",
      "photoUrl": "https://lh4.googleusercontent.com/-4tuzWm5gv40/AAAAAAAAAAI/AAAAAAAAJVY/NlQsa_4osO8/s64/photo.jpg",
      "userId": "01070102596457965566"
     },
     "user_tz": -60
    },
    "id": "_FNN10C3Pxfe",
    "outputId": "ff6a74e9-e1f1-4c3f-e877-9de836e4c1e9"
   },
   "outputs": [
    {
     "name": "stdout",
     "output_type": "stream",
     "text": [
      "query:0 of 1610 Country=\"France\" and City=\"Antibes\"\n",
      "\t matched with countryID = FR (100.0%)\n",
      "\t\t matched with city = Antibes (100.0%)\n",
      "query:1 of 1610 Country=\"United Arab Emirates\" and City=\"Abu Dhabi\"\n",
      "\t matched with countryID = AE (100.0%)\n",
      "\t\t matched with city = Abu Dhabi (100.0%)\n",
      "query:2 of 1610 Country=\"Ireland\" and City=\"Dublin\"\n",
      "\t matched with countryID = IE (100.0%)\n",
      "\t\t matched with city = Dublin (100.0%)\n",
      "query:3 of 1610 Country=\"UK\" and City=\"London\"\n",
      "\t matched with countryID = GB (100.0%)\n",
      "\t\t matched with city = London (100.0%)\n",
      "query:4 of 1610 Country=\"United Kingdom\" and City=\"London\"\n",
      "\t matched with countryID = GB (100.0%)\n",
      "\t\t matched with city = London (100.0%)\n",
      "query:5 of 1610 Country=\"UK\" and City=\"London\"\n",
      "\t matched with countryID = GB (100.0%)\n",
      "\t\t matched with city = London (100.0%)\n",
      "query:6 of 1610 Country=\"Ireland\" and City=\"Leixlip\"\n",
      "\t matched with countryID = IE (100.0%)\n",
      "\t\t matched with city = Leixlip (100.0%)\n",
      "query:7 of 1610 Country=\"Ireland\" and City=\"Arklow\"\n",
      "\t matched with countryID = IE (100.0%)\n",
      "\t\t matched with city = Arklow (100.0%)\n",
      "query:8 of 1610 Country=\"Ireland\" and City=\"Cork\"\n",
      "\t matched with countryID = IE (100.0%)\n",
      "\t\t matched with city = Cork (100.0%)\n",
      "query:9 of 1610 Country=\"India\" and City=\"Ajmer\"\n",
      "\t matched with countryID = IN (100.0%)\n",
      "\t\t matched with city = Ajmer (100.0%)\n",
      "\n",
      "\n",
      "city Keys found:\n",
      "countryKey: FR, cityKey: 25\n",
      "countryKey: AE, cityKey: 2\n",
      "countryKey: IE, cityKey: 0\n",
      "countryKey: GB, cityKey: 0\n",
      "countryKey: GB, cityKey: 0\n",
      "countryKey: GB, cityKey: 0\n",
      "countryKey: IE, cityKey: 134\n",
      "countryKey: IE, cityKey: 38\n",
      "countryKey: IE, cityKey: 1\n",
      "countryKey: IN, cityKey: 44\n"
     ]
    }
   ],
   "source": [
    "CountryKey = []\n",
    "CityKey = []\n",
    "CountryMatchSucess = []\n",
    "CityMatchSucess = []\n",
    "Length=len(Frm.COUNTRY)\n",
    "inDx=0\n",
    "for country, city in zip(Frm.COUNTRY[:50], Frm.CITY[:50]):\n",
    "  #\n",
    "  if country == np.nan: country = None\n",
    "  if city == np.nan: city = None\n",
    "  print('query:{} of {} Country=\\\"{}\\\" and City=\\\"{}\\\"'.format(inDx,Length,country,city))\n",
    "  #Query for country:\n",
    "  resultCountryQuery = TownsDataBase.queryCountryName(country,townsDB)\n",
    "  #Check matched country result, and save:\n",
    "  if resultCountryQuery[0] != None:\n",
    "    print('\\t matched with countryID = {} ({}%)'.format(resultCountryQuery[0],100*(resultCountryQuery[1]/1.0)))\n",
    "    CountryKey.append(resultCountryQuery[0])\n",
    "    CountryMatchSucess.append(resultCountryQuery[1])\n",
    "  else:\n",
    "    print('\\t Matching unsuccessful! no countryID found.)')\n",
    "    CountryKey.append(np.nan)\n",
    "    CountryMatchSucess.append(np.nan)\n",
    "  #Query city:\n",
    "  resultCityQuery = TownsDataBase.queryCityName(city,townsDB,resultCountryQuery[0])\n",
    "  if resultCountryQuery[0] == None and resultCityQuery[3] != None:\n",
    "    CountryKey[-1] = resultCityQuery[3] #if we find a city without country Key, update the new countryKey!\n",
    "  if resultCityQuery[0] != None:\n",
    "    print('\\t\\t matched with city = {} ({}%)'.format(resultCityQuery[0],100*(resultCityQuery[1]/1.0)))\n",
    "    CityKey.append(resultCityQuery[2])\n",
    "    CityMatchSucess.append(resultCityQuery[1])\n",
    "  else:\n",
    "    print('\\t\\t Matching unsuccessful! no cityID found.)')\n",
    "    CityKey.append(np.nan)\n",
    "    CityMatchSucess.append(np.nan)\n",
    "  inDx += 1\n",
    "  \n",
    "\n",
    "  \n",
    "print('\\n\\ncity Keys found:')\n",
    "for keys1,keys2 in zip(CountryKey,CityKey):\n",
    "  print('countryKey: {}, cityKey: {}'.format(keys1,keys2))\n",
    "                                     "
   ]
  },
  {
   "cell_type": "markdown",
   "metadata": {
    "colab_type": "text",
    "id": "Yw3DLNGUmVJt"
   },
   "source": [
    "As shown in the output above, the **COUNTRY** and **CITY** column entries can be evaluated with **townsDB** \n",
    "\n",
    ">if a match is found, then a **CountryKey** and **CityKey** are obtained. These keys allow the townsDB database to be indexed, and additional information to be linked such as **population** and l**ocation**:"
   ]
  },
  {
   "cell_type": "code",
   "execution_count": 0,
   "metadata": {
    "colab": {
     "base_uri": "https://localhost:8080/",
     "height": 211
    },
    "colab_type": "code",
    "executionInfo": {
     "elapsed": 608,
     "status": "ok",
     "timestamp": 1555076625760,
     "user": {
      "displayName": "Brian Scanlon",
      "photoUrl": "https://lh4.googleusercontent.com/-4tuzWm5gv40/AAAAAAAAAAI/AAAAAAAAJVY/NlQsa_4osO8/s64/photo.jpg",
      "userId": "01070102596457965566"
     },
     "user_tz": -60
    },
    "id": "mhm2uLwnnToK",
    "outputId": "32fed25a-0815-4ae9-f9ac-9f282e2dfa20"
   },
   "outputs": [
    {
     "name": "stdout",
     "output_type": "stream",
     "text": [
      "countryKey: FR, cityKey: 25, cityName = Antibes  cityPopulation = 76393, cityLocation = (7.128,43.562)\n",
      "countryKey: AE, cityKey: 2, cityName = Abu Dhabi  cityPopulation = Unknown, cityLocation = (54.367,24.467)\n",
      "countryKey: IE, cityKey: 0, cityName = Dublin  cityPopulation = 1024027, cityLocation = (-6.249,53.333)\n",
      "countryKey: GB, cityKey: 0, cityName = London  cityPopulation = 7556900, cityLocation = (-0.126,51.509)\n",
      "countryKey: GB, cityKey: 0, cityName = London  cityPopulation = 7556900, cityLocation = (-0.126,51.509)\n",
      "countryKey: GB, cityKey: 0, cityName = London  cityPopulation = 7556900, cityLocation = (-0.126,51.509)\n",
      "countryKey: IE, cityKey: 134, cityName = Leixlip  cityPopulation = 15452, cityLocation = (-6.496,53.366)\n",
      "countryKey: IE, cityKey: 38, cityName = Arklow  cityPopulation = 11761, cityLocation = (-6.141,52.793)\n",
      "countryKey: IE, cityKey: 1, cityName = Cork  cityPopulation = 190384, cityLocation = (-8.471,51.898)\n",
      "countryKey: IN, cityKey: 44, cityName = Ajmer  cityPopulation = 517911, cityLocation = (74.639,26.452)\n"
     ]
    }
   ],
   "source": [
    "for keys1,keys2 in zip(CountryKey,CityKey):\n",
    "  cName = townsDB['TOWNS'][keys1]['TownName'][keys2]\n",
    "  cPop = townsDB['TOWNS'][keys1]['Population'][keys2]\n",
    "  if cPop == None: cPop = 'Unknown'\n",
    "  cLocX = townsDB['TOWNS'][keys1]['Longitude'][keys2]\n",
    "  cLocY = townsDB['TOWNS'][keys1]['Latitude'][keys2]\n",
    "  print('countryKey: {}, cityKey: {}, cityName = {}  cityPopulation = {}, cityLocation = ({:.3f},{:.3f})'.format(keys1,keys2,cName,cPop,cLocX,cLocY))"
   ]
  },
  {
   "cell_type": "markdown",
   "metadata": {
    "colab_type": "text",
    "id": "ghIzBJWho9rH"
   },
   "source": [
    "As demonsterated above, we can use the CountryKeys and CityKeys to extract and append more information to the original DataBase.\n",
    "\n",
    "Below, is a printout of the information available for each placename. This information has been extracted from geoNames, and so any errors in the database originate from there. It is not garaunteed how accurate the values are, but GeoNames has a strong contributive community who are actively improving the database. "
   ]
  },
  {
   "cell_type": "code",
   "execution_count": 0,
   "metadata": {
    "colab": {
     "base_uri": "https://localhost:8080/",
     "height": 54
    },
    "colab_type": "code",
    "executionInfo": {
     "elapsed": 839,
     "status": "ok",
     "timestamp": 1555076628568,
     "user": {
      "displayName": "Brian Scanlon",
      "photoUrl": "https://lh4.googleusercontent.com/-4tuzWm5gv40/AAAAAAAAAAI/AAAAAAAAJVY/NlQsa_4osO8/s64/photo.jpg",
      "userId": "01070102596457965566"
     },
     "user_tz": -60
    },
    "id": "-pu0g_qdn7DD",
    "outputId": "bdf93f62-fd8a-46dd-cd18-78c77144699f"
   },
   "outputs": [
    {
     "data": {
      "text/plain": [
       "dict_keys(['TownIndex', 'TownName', 'Country', 'Latitude', 'Longitude', 'Province', 'County', 'Address2', 'TownClass', 'Population', 'Aliases', 'AliasIndex'])"
      ]
     },
     "execution_count": 21,
     "metadata": {
      "tags": []
     },
     "output_type": "execute_result"
    }
   ],
   "source": [
    "townsDB['TOWNS']['IE'].keys()\n"
   ]
  },
  {
   "cell_type": "code",
   "execution_count": 0,
   "metadata": {
    "colab": {},
    "colab_type": "code",
    "id": "Tlohiifvydsi"
   },
   "outputs": [],
   "source": []
  }
 ],
 "metadata": {
  "colab": {
   "collapsed_sections": [],
   "name": "CityTownFilterRoutine.ipynb",
   "provenance": [],
   "version": "0.3.2"
  },
  "kernelspec": {
   "display_name": "Python 3",
   "language": "python",
   "name": "python3"
  },
  "language_info": {
   "codemirror_mode": {
    "name": "ipython",
    "version": 3
   },
   "file_extension": ".py",
   "mimetype": "text/x-python",
   "name": "python",
   "nbconvert_exporter": "python",
   "pygments_lexer": "ipython3",
   "version": "3.6.5"
  }
 },
 "nbformat": 4,
 "nbformat_minor": 1
}
